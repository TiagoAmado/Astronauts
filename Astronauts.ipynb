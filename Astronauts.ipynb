{
  "cells": [
    {
      "cell_type": "code",
      "execution_count": 6,
      "metadata": {
        "id": "76MIXPsa6S1p"
      },
      "outputs": [],
      "source": [
        "import requests \n",
        "import pandas as pd\n",
        "import matplotlib.pyplot as plt"
      ]
    },
    {
      "cell_type": "code",
      "execution_count": 2,
      "metadata": {
        "id": "gcAjSzHm6WI_"
      },
      "outputs": [],
      "source": [
        "r = requests.get('http://api.open-notify.org/astros.json')"
      ]
    },
    {
      "cell_type": "code",
      "execution_count": 3,
      "metadata": {
        "colab": {
          "base_uri": "https://localhost:8080/"
        },
        "id": "crScaN9F6_sM",
        "outputId": "316a0dc8-4b6c-4b01-f463-c11d2b4ca98b"
      },
      "outputs": [
        {
          "data": {
            "text/plain": [
              "{'number': 10,\n",
              " 'people': [{'name': 'Oleg Artemyev', 'craft': 'ISS'},\n",
              "  {'name': 'Denis Matveev', 'craft': 'ISS'},\n",
              "  {'name': 'Sergey Korsakov', 'craft': 'ISS'},\n",
              "  {'name': 'Kjell Lindgren', 'craft': 'ISS'},\n",
              "  {'name': 'Bob Hines', 'craft': 'ISS'},\n",
              "  {'name': 'Samantha Cristoforetti', 'craft': 'ISS'},\n",
              "  {'name': 'Jessica Watkins', 'craft': 'ISS'},\n",
              "  {'name': 'Cai Xuzhe', 'craft': 'Tiangong'},\n",
              "  {'name': 'Chen Dong', 'craft': 'Tiangong'},\n",
              "  {'name': 'Liu Yang', 'craft': 'Tiangong'}],\n",
              " 'message': 'success'}"
            ]
          },
          "execution_count": 3,
          "metadata": {},
          "output_type": "execute_result"
        }
      ],
      "source": [
        "r.json()"
      ]
    },
    {
      "cell_type": "code",
      "execution_count": 4,
      "metadata": {
        "colab": {
          "base_uri": "https://localhost:8080/",
          "height": 363
        },
        "id": "Ta6FUx3n7J2N",
        "outputId": "ce182048-ddcb-408a-8408-8bf9158b6b25"
      },
      "outputs": [
        {
          "data": {
            "text/html": [
              "<div>\n",
              "<style scoped>\n",
              "    .dataframe tbody tr th:only-of-type {\n",
              "        vertical-align: middle;\n",
              "    }\n",
              "\n",
              "    .dataframe tbody tr th {\n",
              "        vertical-align: top;\n",
              "    }\n",
              "\n",
              "    .dataframe thead th {\n",
              "        text-align: right;\n",
              "    }\n",
              "</style>\n",
              "<table border=\"1\" class=\"dataframe\">\n",
              "  <thead>\n",
              "    <tr style=\"text-align: right;\">\n",
              "      <th></th>\n",
              "      <th>name</th>\n",
              "      <th>craft</th>\n",
              "    </tr>\n",
              "  </thead>\n",
              "  <tbody>\n",
              "    <tr>\n",
              "      <th>0</th>\n",
              "      <td>Oleg Artemyev</td>\n",
              "      <td>ISS</td>\n",
              "    </tr>\n",
              "    <tr>\n",
              "      <th>1</th>\n",
              "      <td>Denis Matveev</td>\n",
              "      <td>ISS</td>\n",
              "    </tr>\n",
              "    <tr>\n",
              "      <th>2</th>\n",
              "      <td>Sergey Korsakov</td>\n",
              "      <td>ISS</td>\n",
              "    </tr>\n",
              "    <tr>\n",
              "      <th>3</th>\n",
              "      <td>Kjell Lindgren</td>\n",
              "      <td>ISS</td>\n",
              "    </tr>\n",
              "    <tr>\n",
              "      <th>4</th>\n",
              "      <td>Bob Hines</td>\n",
              "      <td>ISS</td>\n",
              "    </tr>\n",
              "    <tr>\n",
              "      <th>5</th>\n",
              "      <td>Samantha Cristoforetti</td>\n",
              "      <td>ISS</td>\n",
              "    </tr>\n",
              "    <tr>\n",
              "      <th>6</th>\n",
              "      <td>Jessica Watkins</td>\n",
              "      <td>ISS</td>\n",
              "    </tr>\n",
              "    <tr>\n",
              "      <th>7</th>\n",
              "      <td>Cai Xuzhe</td>\n",
              "      <td>Tiangong</td>\n",
              "    </tr>\n",
              "    <tr>\n",
              "      <th>8</th>\n",
              "      <td>Chen Dong</td>\n",
              "      <td>Tiangong</td>\n",
              "    </tr>\n",
              "    <tr>\n",
              "      <th>9</th>\n",
              "      <td>Liu Yang</td>\n",
              "      <td>Tiangong</td>\n",
              "    </tr>\n",
              "  </tbody>\n",
              "</table>\n",
              "</div>"
            ],
            "text/plain": [
              "                     name     craft\n",
              "0           Oleg Artemyev       ISS\n",
              "1           Denis Matveev       ISS\n",
              "2         Sergey Korsakov       ISS\n",
              "3          Kjell Lindgren       ISS\n",
              "4               Bob Hines       ISS\n",
              "5  Samantha Cristoforetti       ISS\n",
              "6         Jessica Watkins       ISS\n",
              "7               Cai Xuzhe  Tiangong\n",
              "8               Chen Dong  Tiangong\n",
              "9                Liu Yang  Tiangong"
            ]
          },
          "execution_count": 4,
          "metadata": {},
          "output_type": "execute_result"
        }
      ],
      "source": [
        "astro = pd.json_normalize(r.json()['people'])\n",
        "astro"
      ]
    },
    {
      "cell_type": "code",
      "execution_count": 29,
      "metadata": {},
      "outputs": [],
      "source": [
        "database = astro.groupby(['craft']).count()"
      ]
    },
    {
      "cell_type": "code",
      "execution_count": 40,
      "metadata": {
        "colab": {
          "base_uri": "https://localhost:8080/",
          "height": 333
        },
        "id": "Z_Mq_eOR7_Qi",
        "outputId": "ab275891-b29b-4fa9-9885-7f48cc340837"
      },
      "outputs": [
        {
          "data": {
            "text/plain": [
              "<AxesSubplot:xlabel='craft'>"
            ]
          },
          "execution_count": 40,
          "metadata": {},
          "output_type": "execute_result"
        },
        {
          "data": {
            "image/png": "[encoded data removed]",
            "text/plain": [
              "<Figure size 432x288 with 1 Axes>"
            ]
          },
          "metadata": {
            "needs_background": "light"
          },
          "output_type": "display_data"
        }
      ],
      "source": [
        "database[\"name\"].plot(kind=\"bar\",color=[\"#172562\",\"#EE1C25\"])"
      ]
    }
  ],
  "metadata": {
    "colab": {
      "name": "Astronauts.ipynb",
      "provenance": []
    },
    "kernelspec": {
      "display_name": "Python 3.9.10 64-bit",
      "language": "python",
      "name": "python3"
    },
    "language_info": {
      "codemirror_mode": {
        "name": "ipython",
        "version": 3
      },
      "file_extension": ".py",
      "mimetype": "text/x-python",
      "name": "python",
      "nbconvert_exporter": "python",
      "pygments_lexer": "ipython3",
      "version": "3.9.10"
    },
    "vscode": {
      "interpreter": {
        "hash": "ad7cfb7d049c6e94bea80129b434d776dbdbf6771cc4d3143aa3ef7b5bd6eb5f"
      }
    }
  },
  "nbformat": 4,
  "nbformat_minor": 0
}
